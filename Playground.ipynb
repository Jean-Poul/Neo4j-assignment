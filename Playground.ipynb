{
 "cells": [
  {
   "cell_type": "code",
   "execution_count": 66,
   "id": "b01f4682",
   "metadata": {},
   "outputs": [
    {
     "name": "stdout",
     "output_type": "stream",
     "text": [
      "Requirement already satisfied: neo4j in c:\\programdata\\anaconda3\\lib\\site-packages (4.4.3)\n",
      "Requirement already satisfied: pytz in c:\\programdata\\anaconda3\\lib\\site-packages (from neo4j) (2021.3)\n"
     ]
    }
   ],
   "source": [
    "# install Neo driver \n",
    "!pip install neo4j\n",
    "\n",
    "import pandas as pd\n",
    "from neo4j import GraphDatabase\n",
    "\n",
    "# Create a connection class\n",
    "class Neo4jConnection:\n",
    "    \n",
    "    def __init__(self, uri, user, pwd):\n",
    "        self.__uri = uri\n",
    "        self.__user = user\n",
    "        self.__pwd = pwd\n",
    "        self.__driver = None\n",
    "        try:\n",
    "            self.__driver = GraphDatabase.driver(self.__uri, auth=(self.__user, self.__pwd),encrypted=False)\n",
    "        except Exception as e:\n",
    "            print(\"Failed to create the driver:\", e)      \n",
    "        \n",
    "    def query(self, query, db=None):\n",
    "        assert self.__driver is not None, \"Driver not initialized!\"\n",
    "        session = None\n",
    "        response = None\n",
    "        try: \n",
    "            session = self.__driver.session(database=db) if db is not None else self.__driver.session() \n",
    "            response = list(session.run(query))\n",
    "        except Exception as e:\n",
    "            print(\"Query failed:\\n\", e)\n",
    "        finally: \n",
    "            if session is not None:\n",
    "                session.close()\n",
    "        return response\n",
    "    \n",
    "    def close(self):\n",
    "        if self.__driver is not None:\n",
    "            self.__driver.close()\n",
    "\n"
   ]
  },
  {
   "cell_type": "code",
   "execution_count": 73,
   "id": "1d360c3c",
   "metadata": {},
   "outputs": [],
   "source": [
    "url = 'https://raw.githubusercontent.com/metrica-sports/sample-data/master/data/Sample_Game_1/Sample_Game_1_RawEventsData.csv'\n",
    "\n",
    "events = pd.read_csv(url, delimiter = \",\")\n",
    "q_load_CSV = \"LOAD CSV WITH HEADERS FROM '\" + url + \"' AS csvLine \"\n",
    "q_create_Players=\"\"\"\n",
    "MERGE(p:Player{team:(csvLine.Team), name:(csvLine.From)})\n",
    "\"\"\"\n",
    "q_create_PASS=\"\"\"\n",
    "MATCH (p:Player{team:(csvLine.Team), name:(csvLine.From)}), (p2:Player{name:(csvLine.To)})\n",
    "WHERE exists(csvLine.To)\n",
    "CALL apoc.create.relationship(p, csvLine.Type, {start_time:TOFLOAT(csvLine.`Start Time [s]`), end_time:TOFLOAT(csvLine.`End Time [s]`)}, p2)\n",
    "YIELD rel\n",
    "RETURN rel\n",
    "\"\"\"\n",
    "\n",
    "# returns Player who had the ball before \n",
    "def find_challenged_pl(current_index, challenging_pl) : \n",
    "    current_row=events.iloc[current_index]\n",
    "    prev_row=events.iloc[current_index-1]\n",
    "\n",
    "    if prev_row['To'] != challenging_pl and  str(prev_row['To'])  != 'nan':\n",
    "        return(prev_row['To'] )\n",
    "        \n",
    "    elif str(prev_row['To']) == 'nan' and prev_row['From'] != challenging_pl :\n",
    "        return prev_row['From'] \n",
    "    else :\n",
    "        return find_challanged_pl(current_index-1, challenging_pl)\n",
    "\n",
    "# \n",
    "def create_relation(relation, conn):\n",
    "    for index, row in events.iterrows():\n",
    "        print(relation)\n",
    "\n",
    "        if row['Type'] == relation :\n",
    "            print(index)\n",
    "\n",
    "            challenging = row['From']\n",
    "            challenged = find_challenged_pl(index, challenging)\n",
    "            print(challenged)\n",
    "            match = \"MATCH (p1:Player{name:'\" + challenging + \"'}), \" + \"(p2:Player{name: '\" + challenged + \"'}) \"\n",
    "            relation = \"CREATE (p1)-[r:\" + relation + \"{start_time: \" + str(row['Start Time [s]']) + \", end_time: \" + str(row['End Time [s]']) + \", subtype: '\" + str(row.Subtype) + \"'}]->(p2)\"\n",
    "            q_relation = match + relation\n",
    "            conn.query(q_relation, 'neo4j')\n",
    "            print(q_relation)\n",
    "        \n"
   ]
  },
  {
   "cell_type": "code",
   "execution_count": 81,
   "id": "7bb8b077",
   "metadata": {},
   "outputs": [],
   "source": [
    "'''\n",
    "Reading CSV file creates Player nodes with relations: PASS, CHALLENGE and RECOVERY between them\n",
    "'''def populate() :\n",
    "    conn = Neo4jConnection(uri=\"bolt://localhost:7687\", user=\"neo4j\", pwd=\"Qwerty!234\")\n",
    "    conn.query(\"CREATE OR REPLACE DATABASE neo4j\", 'neo4j')\n",
    "    conn.query(q_load_CSV + q_create_Players, 'neo4j')\n",
    "    conn.query(q_load_CSV + q_create_PASS, 'neo4j')\n",
    "   \n",
    "\n",
    "    for index, row in events.iterrows():    \n",
    "\n",
    "        if row['Type'] == 'CHALLENGE' :\n",
    "            challenging = row['From']\n",
    "            challenged = find_challenged_pl(index, challenging)\n",
    "            match = \"MATCH (p1:Player{name:'\" + challenging + \"'}), \" + \"(p2:Player{name: '\" + challenged + \"'}) \"\n",
    "            relation = \"CREATE (p1)-[r:CHALLENGE{start_time: \" + str(row['Start Time [s]']) + \", end_time: \" + str(row['End Time [s]']) + \", subtype: '\" + str(row.Subtype) + \"'}]->(p2)\"\n",
    "            q_relation = match + relation\n",
    "            conn.query(q_relation, 'neo4j')\n",
    "            \n",
    "        if row['Type'] == 'RECOVERY' :\n",
    "            challenging = row['From']\n",
    "            challenged = find_challenged_pl(index, challenging)\n",
    "            match = \"MATCH (p1:Player{name:'\" + challenging + \"'}), \" + \"(p2:Player{name: '\" + challenged + \"'}) \"\n",
    "            relation = \"CREATE (p1)-[r:RECOVERY{start_time: \" + str(row['Start Time [s]']) + \", end_time: \" + str(row['End Time [s]']) + \", subtype: '\" + str(row.Subtype) + \"'}]->(p2)\"\n",
    "            q_relation = match + relation\n",
    "            conn.query(q_relation, 'neo4j')\n",
    "            \n",
    "    conn.close()\n",
    "    print(\"END\")"
   ]
  },
  {
   "cell_type": "code",
   "execution_count": 82,
   "id": "9d86494a",
   "metadata": {},
   "outputs": [
    {
     "name": "stdout",
     "output_type": "stream",
     "text": [
      "END\n"
     ]
    }
   ],
   "source": [
    "populate()"
   ]
  }
 ],
 "metadata": {
  "kernelspec": {
   "display_name": "Python 3 (ipykernel)",
   "language": "python",
   "name": "python3"
  },
  "language_info": {
   "codemirror_mode": {
    "name": "ipython",
    "version": 3
   },
   "file_extension": ".py",
   "mimetype": "text/x-python",
   "name": "python",
   "nbconvert_exporter": "python",
   "pygments_lexer": "ipython3",
   "version": "3.9.7"
  }
 },
 "nbformat": 4,
 "nbformat_minor": 5
}
